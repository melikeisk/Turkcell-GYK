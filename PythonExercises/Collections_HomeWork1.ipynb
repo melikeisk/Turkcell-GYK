{
  "nbformat": 4,
  "nbformat_minor": 0,
  "metadata": {
    "colab": {
      "provenance": [],
      "authorship_tag": "ABX9TyO4nVFhK1jUxRP84ZBAjiGQ",
      "include_colab_link": true
    },
    "kernelspec": {
      "name": "python3",
      "display_name": "Python 3"
    },
    "language_info": {
      "name": "python"
    }
  },
  "cells": [
    {
      "cell_type": "markdown",
      "metadata": {
        "id": "view-in-github",
        "colab_type": "text"
      },
      "source": [
        "<a href=\"https://colab.research.google.com/github/BernaUzunoglu/Turkcell/blob/main/Collections_HomeWork1.ipynb\" target=\"_parent\"><img src=\"https://colab.research.google.com/assets/colab-badge.svg\" alt=\"Open In Colab\"/></a>"
      ]
    },
    {
      "cell_type": "markdown",
      "source": [
        "**H1:Bir şirketteki çalışanların performans verileri aşağıda verilmiştir:**\n",
        "\n",
        "```\n",
        "employees = [\n",
        "    {\"name\": \"Ahmet\", \"department\": \"IT\", \"projects\": [{\"name\": \"CRM\", \"completed\": True, \"hours\": 120}, {\"name\": \"Security\", \"completed\": False, \"hours\": 80}]},\n",
        "    {\"name\": \"Elif\", \"department\": \"HR\", \"projects\": [{\"name\": \"Hiring System\", \"completed\": True, \"hours\": 90}, {\"name\": \"Employee Portal\", \"completed\": True, \"hours\": 100}]},\n",
        "    {\"name\": \"Mehmet\", \"department\": \"IT\", \"projects\": [{\"name\": \"Cloud Migration\", \"completed\": True, \"hours\": 150}, {\"name\": \"Data Analysis\", \"completed\": True, \"hours\": 130}]},\n",
        "    {\"name\": \"Ayşe\", \"department\": \"Marketing\", \"projects\": [{\"name\": \"Social Media\", \"completed\": True, \"hours\": 60}, {\"name\": \"SEO\", \"completed\": False, \"hours\": 50}]}\n",
        "]\n",
        "```\n",
        "\n",
        "\n",
        "**Yapılması Gerekenler:**\n",
        "* En çok saat harcayan çalışanı bulun.\n",
        "* Tamamlanan proje sayısı en yüksek olan çalışanı belirleyin.\n",
        "* Her departmandaki toplam çalışma saatlerini hesaplayın.\n",
        "* En çok proje yapan departmanı bulun.\n",
        "* Tüm projelerin tamamlanma yüzdesini hesaplayın."
      ],
      "metadata": {
        "id": "Ejkhz8WwbsUv"
      }
    },
    {
      "cell_type": "code",
      "source": [
        "employees = [\n",
        "    {\"name\": \"Ahmet\", \"department\": \"IT\", \"projects\": [{\"name\": \"CRM\", \"completed\": True, \"hours\": 120}, {\"name\": \"Security\", \"completed\": False, \"hours\": 80}]},\n",
        "    {\"name\": \"Elif\", \"department\": \"HR\", \"projects\": [{\"name\": \"Hiring System\", \"completed\": True, \"hours\": 90}, {\"name\": \"Employee Portal\", \"completed\": True, \"hours\": 100}]},\n",
        "    {\"name\": \"Mehmet\", \"department\": \"IT\", \"projects\": [{\"name\": \"Cloud Migration\", \"completed\": True, \"hours\": 150}, {\"name\": \"Data Analysis\", \"completed\": True, \"hours\": 130}]},\n",
        "    {\"name\": \"Ayşe\", \"department\": \"Marketing\", \"projects\": [{\"name\": \"Social Media\", \"completed\": True, \"hours\": 60}, {\"name\": \"SEO\", \"completed\": False, \"hours\": 50}]}\n",
        "]"
      ],
      "metadata": {
        "id": "rfHGWeD9b6VR"
      },
      "execution_count": null,
      "outputs": []
    },
    {
      "cell_type": "code",
      "source": [
        "# En çok saat harcayan çalışanı bulun.\n",
        "for employe in employees:\n",
        "  employe[\"total_hour\"] = sum(item['hours'] for item in employe['projects'])\n",
        "  # print(employe)\n",
        "\n",
        "# En çok çalışma saatini bul\n",
        "max_total_hour = max(employe[\"total_hour\"] for employe in employees)\n",
        "\n",
        "# En çok saat harcayan çalışanları listele\n",
        "max_hour_employees = [employe for employe in employees if employe[\"total_hour\"] == max_total_hour]\n",
        "\n",
        "print(f'En cok harcanan saati: {max_total_hour}')\n",
        "print(max_hour_employees)"
      ],
      "metadata": {
        "colab": {
          "base_uri": "https://localhost:8080/"
        },
        "id": "0wsYiDqQdKSB",
        "outputId": "cead1e3b-a49b-486b-ac06-96955594abaa"
      },
      "execution_count": null,
      "outputs": [
        {
          "output_type": "stream",
          "name": "stdout",
          "text": [
            "En cok harcanan saati: 280\n",
            "[{'name': 'Mehmet', 'department': 'IT', 'projects': [{'name': 'Cloud Migration', 'completed': True, 'hours': 150}, {'name': 'Data Analysis', 'completed': True, 'hours': 130}], 'Completed Project': 2, 'total_hour': 280}]\n"
          ]
        }
      ]
    },
    {
      "cell_type": "code",
      "source": [
        "# Tamamlanan proje sayısı en yüksek olan çalışanı belirleyin.\n",
        "for employe in employees:\n",
        "  # employe['Completed Project'] =\n",
        "  employe['Completed Project'] = sum(1 for item in employe['projects'] if item[\"completed\"])\n",
        "\n",
        "# En çok tamamlanan proje sayısını bulalım\n",
        "max_completed_project = max(employe['Completed Project']for employe in employees)\n",
        "\n",
        "# En çok proje tamamlayan çalışanları listele\n",
        "max_completed_employees = [employe for employe in employees if employe['Completed Project'] == max_completed_project]\n",
        "\n",
        "print(f'En çok tamamalanan proje sayısı: {max_completed_project}')\n",
        "print(f'En çok proje tamamlayan çalışan : {max_completed_employees}')"
      ],
      "metadata": {
        "colab": {
          "base_uri": "https://localhost:8080/"
        },
        "id": "6WNSwSm9fhNv",
        "outputId": "1d9ad89c-9c3a-4dec-c672-40ec91ea71dd"
      },
      "execution_count": null,
      "outputs": [
        {
          "output_type": "stream",
          "name": "stdout",
          "text": [
            "En çok tamamalanan proje sayısı: 2\n",
            "En çok proje tamamlayan çalışan : [{'name': 'Elif', 'department': 'HR', 'projects': [{'name': 'Hiring System', 'completed': True, 'hours': 90}, {'name': 'Employee Portal', 'completed': True, 'hours': 100}], 'Completed Project': 2}, {'name': 'Mehmet', 'department': 'IT', 'projects': [{'name': 'Cloud Migration', 'completed': True, 'hours': 150}, {'name': 'Data Analysis', 'completed': True, 'hours': 130}], 'Completed Project': 2}]\n"
          ]
        }
      ]
    },
    {
      "cell_type": "code",
      "source": [
        "# Her departmandaki toplam çalışma saatlerini hesaplayın.\n",
        "\n",
        "# Departmanları belirle\n",
        "department = []\n",
        "[department.append(employe.get(\"department\")) for employe in employees if employe.get(\"department\") not in department]\n",
        "\n",
        "# Departmanların toplam çalışma saatlerini saklamak için bir sözlük oluştur\n",
        "department_work_hours = {dept: 0 for dept in department}\n",
        "\n",
        "# Çalışanların çalışma saatlerini ilgili departmana ekle\n",
        "for employe in employees:\n",
        "    dept = employe.get(\"department\")\n",
        "    if dept in department_work_hours:\n",
        "        department_work_hours[dept] += employe.get(\"total_hour\")\n",
        "\n",
        "print(department_work_hours)"
      ],
      "metadata": {
        "colab": {
          "base_uri": "https://localhost:8080/"
        },
        "id": "QloEhj8diP2j",
        "outputId": "8188e172-67d9-46e7-eed7-6eefeab95131"
      },
      "execution_count": null,
      "outputs": [
        {
          "output_type": "stream",
          "name": "stdout",
          "text": [
            "{'IT': 480, 'HR': 190, 'Marketing': 110}\n"
          ]
        }
      ]
    },
    {
      "cell_type": "code",
      "source": [
        "# En çok proje yapan departmanı bulun.\n",
        "print(department)\n",
        "\n",
        "# Departmanların toplam proje tamamlama değerlerini saklamak için bir sözlük oluştur\n",
        "department_project_completed = {dept: 0 for dept in department}\n",
        "\n",
        "# Tamamlanan projeleri ekleyelim\n",
        "for employe in employees:\n",
        "    dept = employe.get(\"department\")\n",
        "    if dept in department_project_completed:\n",
        "        department_project_completed[dept] += employe.get(\"Completed Project\")\n",
        "print(department_project_completed)"
      ],
      "metadata": {
        "colab": {
          "base_uri": "https://localhost:8080/"
        },
        "id": "Di_bvSfjmOSv",
        "outputId": "42232d68-3b7e-47d5-fc85-e36761409874"
      },
      "execution_count": null,
      "outputs": [
        {
          "output_type": "stream",
          "name": "stdout",
          "text": [
            "['IT', 'HR', 'Marketing']\n",
            "{'IT': 3, 'HR': 2, 'Marketing': 1}\n"
          ]
        }
      ]
    },
    {
      "cell_type": "code",
      "source": [
        "# Tüm projelerin tamamlanma yüzdesini hesaplayın.\n",
        "\n",
        "# Bütün projeleri sayacağız\n",
        "# Tamamlananları sayacağız\n",
        "# (Tamamlanan proje sayısı/ toplam proje) * 100\n",
        "\n",
        "completed_count = 0\n",
        "project_count = 0\n",
        "for employe in employees:\n",
        "  completed_count = completed_count +  sum(1 for item in employe['projects'] if item[\"completed\"])\n",
        "  project_count = project_count + len(employe.get(\"projects\"))\n",
        "\n",
        "print(f'Tamamlanan Proje Sayısı :{completed_count}')\n",
        "print(f'Proje Sayısı : {project_count}')\n",
        "print(f'Projelerin tamamlanma yüzdesi : {(completed_count/ project_count)*100}')"
      ],
      "metadata": {
        "colab": {
          "base_uri": "https://localhost:8080/"
        },
        "id": "2vRKDUJbqehU",
        "outputId": "fa9d6c4c-a66b-492e-aa79-c152aa381262"
      },
      "execution_count": null,
      "outputs": [
        {
          "output_type": "stream",
          "name": "stdout",
          "text": [
            "Tamamlanan Proje Sayısı :6\n",
            "Proje Sayısı : 8\n",
            "Projelerin tamamlanma yüzdesi : 75.0\n"
          ]
        }
      ]
    },
    {
      "cell_type": "markdown",
      "source": [
        "**H2:Bir marketin ürün stok durumu aşağıda verilmiştir:**\n",
        "\n",
        "\n",
        "```\n",
        "stock = [\n",
        "    {\"category\": \"Meyve\", \"items\": [{\"name\": \"Elma\", \"price\": 10, \"quantity\": 50}, {\"name\": \"Muz\", \"price\": 15, \"quantity\": 30}]},\n",
        "    {\"category\": \"Sebze\", \"items\": [{\"name\": \"Domates\", \"price\": 8, \"quantity\": 60}, {\"name\": \"Patates\", \"price\": 5, \"quantity\": 100}]},\n",
        "    {\"category\": \"İçecek\", \"items\": [{\"name\": \"Maden Suyu\", \"price\": 3, \"quantity\": 150}, {\"name\": \"Kola\", \"price\": 12, \"quantity\": 80}]}\n",
        "]\n",
        "```\n",
        "\n",
        "**Yapılması Gerekenler:**\n",
        "* Stokta toplam kaç ürün olduğunu hesaplayın.\n",
        "* En değerli ürünü (price * quantity en yüksek olan) bulun.\n",
        "* Her kategori için toplam stok değerini hesaplayan bir sözlük oluşturun.\n",
        "* Stok miktarı en düşük olan ürünü bulun.\n",
        "* Ortalama ürün fiyatını hesaplayın."
      ],
      "metadata": {
        "id": "Zj2y0uJ5cFdI"
      }
    },
    {
      "cell_type": "code",
      "source": [
        "stock = [\n",
        "    {\"category\": \"Meyve\", \"items\": [{\"name\": \"Elma\", \"price\": 10, \"quantity\": 50}, {\"name\": \"Muz\", \"price\": 15, \"quantity\": 30}]},\n",
        "    {\"category\": \"Sebze\", \"items\": [{\"name\": \"Domates\", \"price\": 8, \"quantity\": 60}, {\"name\": \"Patates\", \"price\": 5, \"quantity\": 100}]},\n",
        "    {\"category\": \"İçecek\", \"items\": [{\"name\": \"Maden Suyu\", \"price\": 3, \"quantity\": 150}, {\"name\": \"Kola\", \"price\": 12, \"quantity\": 80}]}\n",
        "]"
      ],
      "metadata": {
        "id": "41IxZ-iwPtDG"
      },
      "execution_count": null,
      "outputs": []
    },
    {
      "cell_type": "code",
      "source": [
        "# Stokta toplam kaç ürün olduğunu hesaplayın.\n",
        "a = []\n",
        "for product in stock:\n",
        " [a.append(item.get('quantity')) for item in product['items']]\n",
        "\n",
        "print(f'Stokta ki toplam ürün sayısı : {sum(a)}')\n"
      ],
      "metadata": {
        "id": "0zheaTGdcV-x",
        "colab": {
          "base_uri": "https://localhost:8080/"
        },
        "outputId": "e705e61f-adf4-43e6-cd59-fdbe629bc56c"
      },
      "execution_count": null,
      "outputs": [
        {
          "output_type": "stream",
          "name": "stdout",
          "text": [
            "Stokta ki toplam ürün sayısı : 470\n"
          ]
        }
      ]
    },
    {
      "cell_type": "code",
      "source": [
        "# En değerli ürünü (price * quantity en yüksek olan) bulun.\n",
        "best_product = {'Name':None, 'Value':0}\n",
        "for product in stock:\n",
        "  # [print(item['price']*item['quantity'])for item in product['items']]\n",
        "  for item in product['items']:\n",
        "      total_value = item['price'] * item['quantity']\n",
        "      if total_value > best_product['Value']:  # Daha büyükse güncelle\n",
        "        best_product['Name'] = item['name']\n",
        "        best_product['Value'] = total_value\n",
        "\n",
        "print(f'En değerli ürün : {best_product}')"
      ],
      "metadata": {
        "colab": {
          "base_uri": "https://localhost:8080/"
        },
        "id": "_Zh3ZLiZVjRs",
        "outputId": "561f7857-90ef-4936-e56c-0fb2ef2f65da"
      },
      "execution_count": null,
      "outputs": [
        {
          "output_type": "stream",
          "name": "stdout",
          "text": [
            "En değerli ürün : {'Name': 'Kola', 'Value': 960}\n"
          ]
        }
      ]
    },
    {
      "cell_type": "code",
      "source": [
        "# Her kategori için toplam stok değerini hesaplayan bir sözlük oluşturun.\n",
        "category = []\n",
        "[category.append(product.get(\"category\")) for product in stock if product.get(\"category\") not in category]\n",
        "\n",
        "# Her kategori için toplam stok değerini saklamak için bir sözlük oluştur\n",
        "total_category_stock = {cat: 0 for cat in category}\n",
        "print(total_category_stock)\n",
        "\n",
        "for product in stock:\n",
        "  temp_cat =  product['category']\n",
        "  for item in product['items']:\n",
        "        total_category_stock[temp_cat] += item['quantity']\n",
        "\n",
        "print(total_category_stock)"
      ],
      "metadata": {
        "colab": {
          "base_uri": "https://localhost:8080/"
        },
        "id": "03N5HT4nYInH",
        "outputId": "77386682-3bc7-4ab7-bcab-7e9ff771a4e4"
      },
      "execution_count": null,
      "outputs": [
        {
          "output_type": "stream",
          "name": "stdout",
          "text": [
            "{'Meyve': 0, 'Sebze': 0, 'İçecek': 0}\n",
            "{'Meyve': 80, 'Sebze': 160, 'İçecek': 230}\n"
          ]
        }
      ]
    },
    {
      "cell_type": "code",
      "source": [
        "# Stok miktarı en düşük olan ürünü bulun.\n",
        "min_stock_product = {'Name':None, 'Count':float('inf')}  # Başlangıç değeri büyük olmalı o yüzden float('inf) kullandık\n",
        "for product in stock:\n",
        "  for item in product['items']:\n",
        "      stock_count = item['quantity']\n",
        "      if stock_count < min_stock_product['Count']:  # Daha küçükse güncelle\n",
        "        min_stock_product['Name'] = item['name']\n",
        "        min_stock_product['Count'] = stock_count\n",
        "\n",
        "print(f'Stockta miktarı en düşük olan ürün : {min_stock_product}')"
      ],
      "metadata": {
        "colab": {
          "base_uri": "https://localhost:8080/"
        },
        "id": "5QGPzppgZX3d",
        "outputId": "14c68cfa-ce5b-4b34-9e59-e2e6d10e8472"
      },
      "execution_count": null,
      "outputs": [
        {
          "output_type": "stream",
          "name": "stdout",
          "text": [
            "Stockta miktarı en düşük olan ürün : {'Name': 'Muz', 'Count': 30}\n"
          ]
        }
      ]
    },
    {
      "cell_type": "code",
      "source": [
        "# Ortalama ürün fiyatını hesaplayın.\n",
        "total_product_price = 0\n",
        "product_count = 0\n",
        "for product in stock:\n",
        "  for item in product['items']:\n",
        "    product_count += 1\n",
        "    total_product_price += item['price']\n",
        "\n",
        "print(f'Toplam Ürün Fiyat Tutarı : {total_product_price}')\n",
        "print(f'Ürün Sayısı {product_count}')\n",
        "print(f'Ortalama Ürün Fiyat Tutarı : {total_product_price / product_count }')"
      ],
      "metadata": {
        "colab": {
          "base_uri": "https://localhost:8080/"
        },
        "id": "dPbEPGEpb7Ar",
        "outputId": "070753a5-35a9-478a-e727-b8fbb1202bbb"
      },
      "execution_count": null,
      "outputs": [
        {
          "output_type": "stream",
          "name": "stdout",
          "text": [
            "Toplam Ürün Fiyat Tutarı : 53\n",
            "Ürün Sayısı 6\n",
            "Ortalama Ürün Fiyat Tutarı : 8.833333333333334\n"
          ]
        }
      ]
    },
    {
      "cell_type": "markdown",
      "source": [
        "**H3: Bir film platformundaki filmler hakkında aşağıdaki veri yapısı verilmiştir:**\n",
        "\n",
        "```\n",
        "movies = [\n",
        "    {\"title\": \"Film A\", \"genre\": \"Aksiyon\", \"ratings\": [8, 9, 7, 6, 9]},\n",
        "    {\"title\": \"Film B\", \"genre\": \"Komedi\", \"ratings\": [6, 5, 7, 8, 6]},\n",
        "    {\"title\": \"Film C\", \"genre\": \"Dram\", \"ratings\": [9, 9, 8, 7, 10]},\n",
        "    {\"title\": \"Film D\", \"genre\": \"Aksiyon\", \"ratings\": [7, 8, 9, 6, 8]}\n",
        "]\n",
        "```\n",
        "\n",
        "\n",
        "**Yapılması Gerekenler:**\n",
        "* En yüksek ortalama puana sahip filmi bulun.\n",
        "* Her tür için ortalama puanı hesaplayın.\n",
        "* Ortalama puanı 8’in üzerinde olan filmleri listeleyin.\n",
        "* Puanı 9 veya daha fazla olan filmlerin yüzdesini bulun.\n",
        "* Tür başına düşen film sayısını içeren bir sözlük oluşturun."
      ],
      "metadata": {
        "id": "i269NkI5cpE-"
      }
    },
    {
      "cell_type": "code",
      "source": [
        "movies = [\n",
        "    {\"title\": \"Film A\", \"genre\": \"Aksiyon\", \"ratings\": [8, 9, 7, 6, 9]},\n",
        "    {\"title\": \"Film B\", \"genre\": \"Komedi\", \"ratings\": [6, 5, 7, 8, 6]},\n",
        "    {\"title\": \"Film C\", \"genre\": \"Dram\", \"ratings\": [9, 9, 8, 7, 10]},\n",
        "    {\"title\": \"Film D\", \"genre\": \"Aksiyon\", \"ratings\": [7, 8, 9, 6, 8]}\n",
        "]"
      ],
      "metadata": {
        "id": "dF5gc_sTxYFi"
      },
      "execution_count": null,
      "outputs": []
    },
    {
      "cell_type": "code",
      "source": [
        "# En yüksek ortalama puana sahip filmi bulun.\n",
        "\n",
        "def average(ratings):\n",
        "    return sum(ratings) / len(ratings) if ratings else 0\n",
        "\n",
        "top_rated_movie = max(movies, key=lambda movie: average(movie[\"ratings\"]))\n",
        "\n",
        "print(f\"En yüksek puanlı film: {top_rated_movie['title']} ({average(top_rated_movie['ratings'])})\")"
      ],
      "metadata": {
        "colab": {
          "base_uri": "https://localhost:8080/"
        },
        "id": "N95rYYm6c3G7",
        "outputId": "3df9d5c1-e3ea-4324-8f65-02cdf5b4021d"
      },
      "execution_count": null,
      "outputs": [
        {
          "output_type": "stream",
          "name": "stdout",
          "text": [
            "En yüksek puanlı film: Film C (8.6)\n"
          ]
        }
      ]
    },
    {
      "cell_type": "code",
      "source": [
        "# Her tür için ortalama puanı hesaplayın.\n",
        "\n",
        "# Film türlerini belirle\n",
        "movies_genre = []\n",
        "[movies_genre.append(movie.get(\"genre\")) for movie in movies if movie.get(\"genre\") not in movies_genre]\n",
        "print(movies_genre)\n",
        "\n",
        "movie_avg_rate ={key: 0 for key in movies_genre}\n",
        "print(movie_avg_rate)\n",
        "\n",
        "for movie in movies:\n",
        "  temp_genre = movie['genre']\n",
        "  if temp_genre in movie_avg_rate:\n",
        "    if movie_avg_rate[temp_genre] == 0:\n",
        "      movie_avg_rate[temp_genre] = avarage(movie['ratings'])\n",
        "    else:\n",
        "       movie_avg_rate[temp_genre] += avarage(movie['ratings'])\n",
        "\n",
        "print(movie_avg_rate)\n",
        "\n"
      ],
      "metadata": {
        "colab": {
          "base_uri": "https://localhost:8080/"
        },
        "id": "EcTNI2if2_N4",
        "outputId": "cfc033bd-d547-41bf-b35e-851ea0cf2849"
      },
      "execution_count": null,
      "outputs": [
        {
          "output_type": "stream",
          "name": "stdout",
          "text": [
            "['Aksiyon', 'Komedi', 'Dram']\n",
            "{'Aksiyon': 0, 'Komedi': 0, 'Dram': 0}\n",
            "{'Aksiyon': 15.399999999999999, 'Komedi': 6.4, 'Dram': 8.6}\n",
            "7.8\n",
            "6.4\n",
            "8.6\n",
            "7.6\n"
          ]
        }
      ]
    },
    {
      "cell_type": "code",
      "source": [
        "# Ortalama puanı 8’in üzerinde olan filmleri listeleyin.\n",
        "favorite_movies = []\n",
        "for movie in movies:\n",
        "  if avarage(movie['ratings']) > 8:\n",
        "    favorite_movies.append(movie['title'])\n",
        "print(f\"Puanlaması 8'in üzerinde olan filmler :{favorite_movies}\" )"
      ],
      "metadata": {
        "colab": {
          "base_uri": "https://localhost:8080/"
        },
        "id": "UrtusSGB3zMu",
        "outputId": "b6f66f57-7669-4208-c168-e52339998a6b"
      },
      "execution_count": null,
      "outputs": [
        {
          "output_type": "stream",
          "name": "stdout",
          "text": [
            "Puanlaması 8'in üzerinde olan filmler :['Film C']\n"
          ]
        }
      ]
    },
    {
      "cell_type": "code",
      "source": [
        "# Puanı 9 veya daha fazla olan filmlerin yüzdesini bulun.\n",
        "best_movie_count = 0\n",
        "for movie in movies:\n",
        "  for rate in movie['ratings']:\n",
        "    if rate >= 9:\n",
        "      best_movie_count += 1\n",
        "      break\n",
        "print(f'9 ve üzeri rating alan filmlerin yüzdesi : {(best_movie_count/len(movies))*100}')"
      ],
      "metadata": {
        "colab": {
          "base_uri": "https://localhost:8080/"
        },
        "id": "im3lXXYs32Tl",
        "outputId": "e69d8308-7058-4814-e325-d43be78d606d"
      },
      "execution_count": null,
      "outputs": [
        {
          "output_type": "stream",
          "name": "stdout",
          "text": [
            "9 ve üzeri rating alan filmlerin yüzdesi : 75.0\n"
          ]
        }
      ]
    },
    {
      "cell_type": "code",
      "source": [
        "# Tür başına düşen film sayısını içeren bir sözlük oluşturun.\n",
        "movies_genre = []\n",
        "[movies_genre.append(movie.get(\"genre\")) for movie in movies if movie.get(\"genre\") not in movies_genre]\n",
        "print(movies_genre)\n",
        "genre_count ={key: 0 for key in movies_genre}\n",
        "print(genre_count)\n",
        "\n",
        "for movie in movies:\n",
        "  temp_genre = movie['genre']\n",
        "  if temp_genre in genre_count:\n",
        "    genre_count[temp_genre] +=1\n",
        "\n",
        "print(genre_count)"
      ],
      "metadata": {
        "colab": {
          "base_uri": "https://localhost:8080/"
        },
        "id": "vvNtEF8d36Ds",
        "outputId": "f0c94597-11fd-4a2e-9f88-787e765d4ef0"
      },
      "execution_count": null,
      "outputs": [
        {
          "output_type": "stream",
          "name": "stdout",
          "text": [
            "['Aksiyon', 'Komedi', 'Dram']\n",
            "{'Aksiyon': 0, 'Komedi': 0, 'Dram': 0}\n",
            "{'Aksiyon': 2, 'Komedi': 1, 'Dram': 1}\n"
          ]
        }
      ]
    },
    {
      "cell_type": "markdown",
      "source": [
        "**H4: Bir okulda öğrencilerin ders notları aşağıdaki gibi tutulmaktadır:**\n",
        "\n",
        "```\n",
        "students = [\n",
        "    {\"name\": \"Ali\", \"grades\": {\"math\": 85, \"physics\": 90, \"history\": 78}},\n",
        "    {\"name\": \"Ayşe\", \"grades\": {\"math\": 92, \"physics\": 88, \"history\": 95}},\n",
        "    {\"name\": \"Mehmet\", \"grades\": {\"math\": 75, \"physics\": 80, \"history\": 85}},\n",
        "    {\"name\": \"Zeynep\", \"grades\": {\"math\": 90, \"physics\": 85, \"history\": 88}}\n",
        "]\n",
        "```\n",
        "\n",
        "\n",
        "**Yapılması Gerekenler:**\n",
        "* En yüksek ortalama notuna sahip öğrenciyi bulun.\n",
        "* Her dersin ortalama notunu hesaplayın.\n",
        "* Ortalama notu 85’in üzerinde olan öğrencileri listeleyin.\n",
        "* Tüm öğrencilerin genel ortalamasını hesaplayın.\n",
        "* Her ders için en yüksek notu alan öğrenciyi bulun."
      ],
      "metadata": {
        "id": "l72VW4dyc6wC"
      }
    },
    {
      "cell_type": "code",
      "source": [
        "students = [\n",
        "    {\"name\": \"Ali\", \"grades\": {\"math\": 85, \"physics\": 90, \"history\": 78}},\n",
        "    {\"name\": \"Ayşe\", \"grades\": {\"math\": 92, \"physics\": 88, \"history\": 95}},\n",
        "    {\"name\": \"Mehmet\", \"grades\": {\"math\": 75, \"physics\": 80, \"history\": 85}},\n",
        "    {\"name\": \"Zeynep\", \"grades\": {\"math\": 90, \"physics\": 85, \"history\": 88, \"eds\": 58}}\n",
        "]"
      ],
      "metadata": {
        "id": "CVs5Yj4OKGqw"
      },
      "execution_count": null,
      "outputs": []
    },
    {
      "cell_type": "code",
      "source": [
        "# En yüksek ortalama notuna sahip öğrenciyi bulun.\n",
        "students_average_list = []\n",
        "\n",
        "for student in students:\n",
        "    student_average = {\"Name\": None, \"Avarage\": 0}\n",
        "    student_average[\"Name\"] = student[\"name\"]\n",
        "    student_average[\"Avarage\"] = sum(student[\"grades\"].values()) / len(student[\"grades\"])\n",
        "    students_average_list.append(student_average)\n",
        "\n",
        "print(students_average_list)\n",
        "# En yüksek ortalamaya sahip öğrenci\n",
        "max_average_student = max(students_average_list, key=lambda student: student[\"Avarage\"])\n",
        "print(max_average_student)\n"
      ],
      "metadata": {
        "colab": {
          "base_uri": "https://localhost:8080/"
        },
        "id": "GDSIZJridGgS",
        "outputId": "9b058f70-539c-4ebb-8581-206f02bfaf1f"
      },
      "execution_count": null,
      "outputs": [
        {
          "output_type": "stream",
          "name": "stdout",
          "text": [
            "[{'Name': 'Ali', 'Avarage': 84.33333333333333}, {'Name': 'Ayşe', 'Avarage': 91.66666666666667}, {'Name': 'Mehmet', 'Avarage': 80.0}, {'Name': 'Zeynep', 'Avarage': 80.25}]\n",
            "{'Name': 'Ayşe', 'Avarage': 91.66666666666667}\n"
          ]
        }
      ]
    },
    {
      "cell_type": "code",
      "source": [
        "# Her dersin ortalama notunu hesaplayın.\n",
        "lesson_avg= {}\n",
        "\n",
        "for student in students:\n",
        "    for lesson, point in student[\"grades\"].items():  # Öğrencinin her ders notunu al\n",
        "      if lesson not in lesson_avg:\n",
        "        lesson_avg[lesson] = {\"total_point\": 0, \"count\": 0}\n",
        "      lesson_avg[lesson][\"total_point\"] += point\n",
        "      lesson_avg[lesson][\"count\"] += 1\n",
        "\n",
        "print(lesson_avg)\n",
        "\n",
        "# Her ders için ortalamaları hesaplayın\n",
        "for lesson in lesson_avg:\n",
        "    lesson_avg[lesson] = lesson_avg[lesson][\"total_point\"] / lesson_avg[lesson][\"count\"]\n",
        "\n",
        "print(lesson_avg)"
      ],
      "metadata": {
        "colab": {
          "base_uri": "https://localhost:8080/"
        },
        "id": "E5xNIdniRGF_",
        "outputId": "96325c2e-fbc9-4518-86e8-202ab93d2f36"
      },
      "execution_count": null,
      "outputs": [
        {
          "output_type": "stream",
          "name": "stdout",
          "text": [
            "{'math': {'total_point': 342, 'count': 4}, 'physics': {'total_point': 343, 'count': 4}, 'history': {'total_point': 346, 'count': 4}, 'eds': {'total_point': 58, 'count': 1}}\n",
            "{'math': 85.5, 'physics': 85.75, 'history': 86.5, 'eds': 58.0}\n"
          ]
        }
      ]
    },
    {
      "cell_type": "code",
      "source": [
        "# Ortalama notu 85’in üzerinde olan öğrencileri listeleyin.\n",
        "student_avg = {'Name':None, \"Avarage\":0 }\n",
        "for student in students:\n",
        "  avg = sum(list(student['grades'].values())) / len(student['grades'].values())\n",
        "  if avg > 85:\n",
        "    student_avg = {'Name':None, \"Avarage\":0 }\n",
        "    student_avg['Name'] = student['name']\n",
        "    student_avg['Avarage'] = avg\n",
        "\n",
        "print(student_avg)\n",
        "\n"
      ],
      "metadata": {
        "colab": {
          "base_uri": "https://localhost:8080/"
        },
        "id": "rhHtWj9d4WTT",
        "outputId": "8a2813e3-13af-4306-96bd-c38046dcbc40"
      },
      "execution_count": null,
      "outputs": [
        {
          "output_type": "stream",
          "name": "stdout",
          "text": [
            "{'Name': 'Ayşe', 'Avarage': 91.66666666666667}\n"
          ]
        }
      ]
    },
    {
      "cell_type": "code",
      "source": [
        "# Tüm öğrencilerin genel ortalamasını hesaplayın.\n",
        "\n",
        "total_point = 0\n",
        "total_lesson_count = 0\n",
        "for student in students:\n",
        "  total_point += sum((list(student['grades'].values())))\n",
        "  total_lesson_count += len(student['grades'].values())\n",
        "\n",
        "print(f'Tüm öğrencilerin notları toplamı : {total_point}')\n",
        "print(f'Ders sayılarının toplamı : {total_lesson_count}')\n",
        "print(f'Tüm öğrencilerin genel not ortalaması : {total_point / total_lesson_count}')"
      ],
      "metadata": {
        "colab": {
          "base_uri": "https://localhost:8080/"
        },
        "id": "9dBDgtev4YxT",
        "outputId": "8b517113-abcb-4e8a-f115-aaf792302732"
      },
      "execution_count": null,
      "outputs": [
        {
          "output_type": "stream",
          "name": "stdout",
          "text": [
            "Tüm öğrencilerin notları toplamı : 1089\n",
            "Ders sayılarının toplamı : 13\n",
            "Tüm öğrencilerin genel not ortalaması : 83.76923076923077\n"
          ]
        }
      ]
    },
    {
      "cell_type": "code",
      "source": [
        "# Her ders için en yüksek notu alan öğrenciyi bulun.\n",
        "\n",
        "max_point_students = {}  # Her ders için en yüksek notu alan öğrenciyi saklayacak sözlük\n",
        "\n",
        "for student in students:\n",
        "    for lesson, point in student[\"grades\"].items():  # Öğrencinin her ders notunu al\n",
        "        if lesson not in max_point_students or point > max_point_students[lesson][\"point\"]:\n",
        "            max_point_students[lesson] = {\"name\": student[\"name\"], \"point\": point}  # Güncelle\n",
        "\n",
        "print(max_point_students)"
      ],
      "metadata": {
        "colab": {
          "base_uri": "https://localhost:8080/"
        },
        "id": "QX_EW_q74dQh",
        "outputId": "2c53addd-9224-4f53-9241-e829ec35bf03"
      },
      "execution_count": null,
      "outputs": [
        {
          "output_type": "stream",
          "name": "stdout",
          "text": [
            "{'math': {'name': 'Ayşe', 'point': 92}, 'physics': {'name': 'Ali', 'point': 90}, 'history': {'name': 'Ayşe', 'point': 95}, 'eds': {'name': 'Zeynep', 'point': 58}}\n"
          ]
        }
      ]
    }
  ]
}