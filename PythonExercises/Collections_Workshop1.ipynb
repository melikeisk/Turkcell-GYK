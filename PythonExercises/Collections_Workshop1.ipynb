{
  "nbformat": 4,
  "nbformat_minor": 0,
  "metadata": {
    "colab": {
      "provenance": [],
      "authorship_tag": "ABX9TyP8GhpULv2OH7jlIAO61zgn",
      "include_colab_link": true
    },
    "kernelspec": {
      "name": "python3",
      "display_name": "Python 3"
    },
    "language_info": {
      "name": "python"
    }
  },
  "cells": [
    {
      "cell_type": "markdown",
      "metadata": {
        "id": "view-in-github",
        "colab_type": "text"
      },
      "source": [
        "<a href=\"https://colab.research.google.com/github/BernaUzunoglu/Turkcell/blob/main/Collections_Workshop1.ipynb\" target=\"_parent\"><img src=\"https://colab.research.google.com/assets/colab-badge.svg\" alt=\"Open In Colab\"/></a>"
      ]
    },
    {
      "cell_type": "markdown",
      "source": [
        "W1:\n",
        "Bir öğrenci yönetim sistemi için aşağıdaki veri yapısı verilmiştir:\n",
        "\n",
        "```\n",
        "students = [\n",
        "    {\"name\": \"Ali\", \"grades\": {\"math\": 85, \"physics\": 90, \"history\": 78}},\n",
        "    {\"name\": \"Ayşe\", \"grades\": {\"math\": 92, \"physics\": 88, \"history\": 95}},\n",
        "    {\"name\": \"Mehmet\", \"grades\": {\"math\": 75, \"physics\": 80, \"history\": 85}},\n",
        "    {\"name\": \"Zeynep\", \"grades\": {\"math\": 90, \"physics\": 85, \"history\": 88}},\n",
        "]\n",
        "```\n",
        "\n",
        "\n",
        "** Yapılması gerekenler: **\n",
        "\n",
        "* En yüksek matematik notuna sahip öğrencinin adını bulun.\n",
        "\n",
        "* Tüm derslerin ortalama notlarını içeren bir sözlük oluşturun.\n",
        "\n",
        "* Ortalama notu 85'in üzerinde olan öğrencileri bir liste halinde döndürün.\n",
        "\n",
        "* Bunu en verimli şekilde Python kodu ile nasıl yaparsınız?"
      ],
      "metadata": {
        "id": "4XGGxYXyqztS"
      }
    },
    {
      "cell_type": "code",
      "source": [
        "students = [\n",
        "    {\"name\": \"Ali\", \"grades\": {\"math\": 85, \"physics\": 90, \"history\": 78}},\n",
        "    {\"name\": \"Ayşe\", \"grades\": {\"math\": 92, \"physics\": 88, \"history\": 95}},\n",
        "    {\"name\": \"Mehmet\", \"grades\": {\"math\": 75, \"physics\": 80, \"history\": 85}},\n",
        "    {\"name\": \"Zeynep\", \"grades\": {\"math\": 90, \"physics\": 85, \"history\": 88}}]\n",
        "students"
      ],
      "metadata": {
        "colab": {
          "base_uri": "https://localhost:8080/"
        },
        "id": "_O5jcyHZrFNM",
        "outputId": "b80d819b-b6e8-4328-a006-c4339abce71f"
      },
      "execution_count": null,
      "outputs": [
        {
          "output_type": "execute_result",
          "data": {
            "text/plain": [
              "[{'name': 'Ali', 'grades': {'math': 85, 'physics': 90, 'history': 78}},\n",
              " {'name': 'Ayşe', 'grades': {'math': 92, 'physics': 88, 'history': 95}},\n",
              " {'name': 'Mehmet', 'grades': {'math': 75, 'physics': 80, 'history': 85}},\n",
              " {'name': 'Zeynep', 'grades': {'math': 90, 'physics': 85, 'history': 88}}]"
            ]
          },
          "metadata": {},
          "execution_count": 1
        }
      ]
    },
    {
      "cell_type": "code",
      "source": [
        "# En yüksek matematik notuna sahip öğrencinin adını bulun.\n",
        "\n",
        "def sonuc(student):\n",
        "    return student[\"grades\"][\"math\"]\n",
        "\n",
        "en_yuksek_not = max(students, key = sonuc)\n",
        "\n",
        "# print(en_yuksek_not)\n",
        "\n",
        "# Öğrenci adı ve notunu gösterme\n",
        "kisi = en_yuksek_not[\"name\"]\n",
        "notu = en_yuksek_not[\"grades\"][\"math\"]\n",
        "\n",
        "kisi, notu"
      ],
      "metadata": {
        "colab": {
          "base_uri": "https://localhost:8080/"
        },
        "id": "rVxOILpSrNfL",
        "outputId": "3bd0a887-79f2-435c-ac68-71dfb9b07c94"
      },
      "execution_count": null,
      "outputs": [
        {
          "output_type": "execute_result",
          "data": {
            "text/plain": [
              "('Ayşe', 92)"
            ]
          },
          "metadata": {},
          "execution_count": 2
        }
      ]
    },
    {
      "cell_type": "code",
      "source": [
        "# Tüm derslerin ortalama notlarını içeren bir sözlük oluşturun.\n",
        "\n",
        "def ortalama(students):\n",
        "  ort_notlar = {}\n",
        "  dersler = students[0][\"grades\"].keys()\n",
        "  # print(dersler)\n",
        "\n",
        "  for i in dersler:\n",
        "    ort_notlar[i] = sum([student[\"grades\"][i] for student in students]) / len(students)\n",
        "\n",
        "  return ort_notlar\n",
        "\n",
        "ortalama = ortalama(students)\n",
        "print(ortalama)"
      ],
      "metadata": {
        "colab": {
          "base_uri": "https://localhost:8080/"
        },
        "id": "jmHxVAbRrP5B",
        "outputId": "0b8671d1-190b-45ec-d2ec-4d973127b389"
      },
      "execution_count": null,
      "outputs": [
        {
          "output_type": "stream",
          "name": "stdout",
          "text": [
            "{'math': 85.5, 'physics': 85.75, 'history': 86.5}\n"
          ]
        }
      ]
    },
    {
      "cell_type": "code",
      "source": [
        "# Ortalama notu 85'in üzerinde olan öğrencileri bir liste halinde döndürün.\n",
        "\n",
        "ogr_list = []\n",
        "\n",
        "for student in students:\n",
        "    # print(student[\"grades\"].values())\n",
        "    ort = sum(student[\"grades\"].values()) / len (student[\"grades\"].values())\n",
        "    # print(f'isim: {student[\"name\"]}\\n ort: {sum(student[\"grades\"].values()) / len (student[\"grades\"].values())}')\n",
        "    if ort > 85:\n",
        "        ogr_list.append(student[\"name\"])\n",
        "\n",
        "print(ogr_list)"
      ],
      "metadata": {
        "colab": {
          "base_uri": "https://localhost:8080/"
        },
        "id": "v0JSBZQmrR9V",
        "outputId": "7eb60c31-9d76-4f8a-8299-24ba1229f1f5"
      },
      "execution_count": null,
      "outputs": [
        {
          "output_type": "stream",
          "name": "stdout",
          "text": [
            "['Ayşe', 'Zeynep']\n"
          ]
        }
      ]
    },
    {
      "cell_type": "markdown",
      "source": [
        "# **W2**\n",
        "\n",
        "Bir şirkette çalışanların görevlerini ve maaşlarını içeren bir veri yapısı aşağıda verilmiştir:\n",
        "\n",
        "\n",
        "\n",
        "```\n",
        "employees = [\n",
        "    {\n",
        "        \"name\": \"Ahmet\",\n",
        "        \"department\": \"IT\",\n",
        "        \"salary\": 8500,\n",
        "        \"tasks\": [\n",
        "            {\"task\": \"Database Optimization\", \"completed\": True, \"effort\": 5},\n",
        "            {\"task\": \"API Development\", \"completed\": True, \"effort\": 8},\n",
        "            {\"task\": \"Security Audit\", \"completed\": False, \"effort\": 6},\n",
        "        ],\n",
        "    },\n",
        "    {\n",
        "        \"name\": \"Elif\",\n",
        "        \"department\": \"HR\",\n",
        "        \"salary\": 7500,\n",
        "        \"tasks\": [\n",
        "            {\"task\": \"Recruitment\", \"completed\": True, \"effort\": 7},\n",
        "            {\"task\": \"Training\", \"completed\": True, \"effort\": 4},\n",
        "            {\"task\": \"Policy Update\", \"completed\": False, \"effort\": 3},\n",
        "        ],\n",
        "    },\n",
        "    {\n",
        "        \"name\": \"Mehmet\",\n",
        "        \"department\": \"IT\",\n",
        "        \"salary\": 9200,\n",
        "        \"tasks\": [\n",
        "            {\"task\": \"Cloud Migration\", \"completed\": True, \"effort\": 9},\n",
        "            {\"task\": \"Load Balancing\", \"completed\": True, \"effort\": 7},\n",
        "            {\"task\": \"System Monitoring\", \"completed\": True, \"effort\": 5},\n",
        "        ],\n",
        "    },\n",
        "    {\n",
        "        \"name\": \"Ayşe\",\n",
        "        \"department\": \"Marketing\",\n",
        "        \"salary\": 6800,\n",
        "        \"tasks\": [\n",
        "            {\"task\": \"Social Media Campaign\", \"completed\": True, \"effort\": 6},\n",
        "            {\"task\": \"SEO Optimization\", \"completed\": False, \"effort\": 4},\n",
        "            {\"task\": \"Brand Strategy\", \"completed\": True, \"effort\": 7},\n",
        "        ],\n",
        "    },\n",
        "]\n",
        "```\n",
        "\n",
        "\n",
        "**Yapılması Gerekenler:**\n",
        "* En yüksek maaşa sahip çalışanı bulun.\n",
        "* Her departmandaki çalışanların toplam maaşlarını içeren bir sözlük oluşturun.\n",
        "* Tüm görevlerin tamamlanma yüzdesini hesaplayın. (Tamamlanan görev sayısı / Toplam görev sayısı)\n",
        "* Çalışanları tamamladıkları görevlerin toplam \"effort\" değerine göre sıralayarak listeleyin.\n",
        "* Görevlerini %100 tamamlamış çalışanları listeleyin.\n",
        "* Her departman için, en az bir görevini tamamlamış çalışanların adlarını içeren bir sözlük oluşturun."
      ],
      "metadata": {
        "id": "VzXS7ne6sHjv"
      }
    },
    {
      "cell_type": "code",
      "source": [
        "employees = [\n",
        "    {\n",
        "        \"name\": \"Ahmet\",\n",
        "        \"department\": \"IT\",\n",
        "        \"salary\": 8500,\n",
        "        \"tasks\": [\n",
        "            {\"task\": \"Database Optimization\", \"completed\": True, \"effort\": 5},\n",
        "            {\"task\": \"API Development\", \"completed\": True, \"effort\": 8},\n",
        "            {\"task\": \"Security Audit\", \"completed\": False, \"effort\": 6},\n",
        "        ],\n",
        "    },\n",
        "    {\n",
        "        \"name\": \"Elif\",\n",
        "        \"department\": \"HR\",\n",
        "        \"salary\": 7500,\n",
        "        \"tasks\": [\n",
        "            {\"task\": \"Recruitment\", \"completed\": True, \"effort\": 7},\n",
        "            {\"task\": \"Training\", \"completed\": True, \"effort\": 4},\n",
        "            {\"task\": \"Policy Update\", \"completed\": False, \"effort\": 3},\n",
        "        ],\n",
        "    },\n",
        "    {\n",
        "        \"name\": \"Mehmet\",\n",
        "        \"department\": \"IT\",\n",
        "        \"salary\": 9200,\n",
        "        \"tasks\": [\n",
        "            {\"task\": \"Cloud Migration\", \"completed\": True, \"effort\": 9},\n",
        "            {\"task\": \"Load Balancing\", \"completed\": True, \"effort\": 7},\n",
        "            {\"task\": \"System Monitoring\", \"completed\": True, \"effort\": 5},\n",
        "        ],\n",
        "    },\n",
        "    {\n",
        "        \"name\": \"Ayşe\",\n",
        "        \"department\": \"Marketing\",\n",
        "        \"salary\": 6800,\n",
        "        \"tasks\": [\n",
        "            {\"task\": \"Social Media Campaign\", \"completed\": True, \"effort\": 6},\n",
        "            {\"task\": \"SEO Optimization\", \"completed\": False, \"effort\": 4},\n",
        "            {\"task\": \"Brand Strategy\", \"completed\": True, \"effort\": 7},\n",
        "        ],\n",
        "    },\n",
        "]"
      ],
      "metadata": {
        "id": "V-7TkAyOsniH"
      },
      "execution_count": null,
      "outputs": []
    },
    {
      "cell_type": "code",
      "source": [
        "# En yüksek maaşa sahip çalışanı bulun.\n",
        "# [print(eleman.get(\"salary\"))for eleman in employees]\n",
        "salary= []\n",
        "[salary.append(eleman.get(\"salary\")) for eleman in employees]\n",
        "eleman = [eleman for eleman in employees if eleman.get(\"salary\") == max(salary)]\n",
        "print(f'En Yüksek Maaş Alan Eleman : ',eleman)\n",
        "print(eleman[0].get(\"name\"))"
      ],
      "metadata": {
        "colab": {
          "base_uri": "https://localhost:8080/"
        },
        "id": "Oupqt1M5srLm",
        "outputId": "9b672c7a-6b3b-46df-9b2a-2b80636ededd"
      },
      "execution_count": null,
      "outputs": [
        {
          "output_type": "stream",
          "name": "stdout",
          "text": [
            "En Yüksek Maaş Alan Eleman :  [{'name': 'Mehmet', 'department': 'IT', 'salary': 9200, 'tasks': [{'task': 'Cloud Migration', 'completed': True, 'effort': 9}, {'task': 'Load Balancing', 'completed': True, 'effort': 7}, {'task': 'System Monitoring', 'completed': True, 'effort': 5}]}]\n",
            "Mehmet\n"
          ]
        }
      ]
    },
    {
      "cell_type": "code",
      "source": [
        "def depart_sum_maas(data):\n",
        "  department =[]\n",
        "  [department.append(employe.get(\"department\")) for employe in data if employe.get(\"department\") not in department]\n",
        "  depart_sum_maas  = {key: 0 for key in department}\n",
        "\n",
        "  for employe in employees:\n",
        "    temp_department = employe.get(\"department\")\n",
        "    if temp_department in depart_sum_maas:\n",
        "      depart_sum_maas[temp_department] = employe.get(\"salary\")+depart_sum_maas[temp_department]\n",
        "  return depart_sum_maas\n",
        "\n",
        "print(depart_sum_maas(employees))"
      ],
      "metadata": {
        "id": "_mbwTUooydVR",
        "colab": {
          "base_uri": "https://localhost:8080/"
        },
        "outputId": "f72b6219-d433-494c-c8b1-a1dcf2bf9402"
      },
      "execution_count": null,
      "outputs": [
        {
          "output_type": "stream",
          "name": "stdout",
          "text": [
            "{'IT': 17700, 'HR': 7500, 'Marketing': 6800}\n"
          ]
        }
      ]
    },
    {
      "cell_type": "code",
      "source": [
        "# Tüm görevlerin tamamlanma yüzdesini hesaplayın. (Tamamlanan görev sayısı / Toplam görev sayısı)\n",
        "\n",
        "# for employe in employees:\n",
        "#   for task in employe[\"tasks\"]:\n",
        "#      print(task)\n",
        "\n",
        "def completed_rate(data):\n",
        "  completed = 0\n",
        "  task_count = 0\n",
        "  for employe in data:\n",
        "    for  task in employe[\"tasks\"]:\n",
        "      task_count += 1\n",
        "      if task.get(\"completed\") == True:\n",
        "        completed += 1\n",
        "\n",
        "  return completed /task_count\n",
        "\n",
        "print(completed_rate(employees))\n"
      ],
      "metadata": {
        "colab": {
          "base_uri": "https://localhost:8080/"
        },
        "id": "aTp7KgCsKYZL",
        "outputId": "8f4bcb83-f24f-4427-c0a0-32ea754378ba"
      },
      "execution_count": null,
      "outputs": [
        {
          "output_type": "stream",
          "name": "stdout",
          "text": [
            "0.75\n"
          ]
        }
      ]
    },
    {
      "cell_type": "code",
      "source": [
        "# Çalışanları tamamladıkları görevlerin toplam \"effort\" değerine göre sıralayarak listeleyin.\n",
        "\n",
        "def sorted_sum_effort(data):\n",
        "  for employe in employees:\n",
        "    sum_effort = 0\n",
        "    for task in employe['tasks']:\n",
        "\n",
        "      if task.get(\"completed\") == True:\n",
        "        sum_effort = sum_effort + task.get(\"effort\")\n",
        "  employe[\"sum_effort\"] = sum_effort\n",
        "  return  sorted(employees, key=lambda x: x['sum_effort'], reverse=True)\n",
        "\n",
        "print(sorted_sum_effort(employees))"
      ],
      "metadata": {
        "colab": {
          "base_uri": "https://localhost:8080/"
        },
        "id": "nS_9wmnjcm3e",
        "outputId": "6d3975e0-0625-4c54-d29f-83de86784735"
      },
      "execution_count": null,
      "outputs": [
        {
          "output_type": "stream",
          "name": "stdout",
          "text": [
            "[{'name': 'Mehmet', 'department': 'IT', 'salary': 9200, 'tasks': [{'task': 'Cloud Migration', 'completed': True, 'effort': 9}, {'task': 'Load Balancing', 'completed': True, 'effort': 7}, {'task': 'System Monitoring', 'completed': True, 'effort': 5}], 'sum_effort': 21}, {'name': 'Ahmet', 'department': 'IT', 'salary': 8500, 'tasks': [{'task': 'Database Optimization', 'completed': True, 'effort': 5}, {'task': 'API Development', 'completed': True, 'effort': 8}, {'task': 'Security Audit', 'completed': False, 'effort': 6}], 'sum_effort': 13}, {'name': 'Ayşe', 'department': 'Marketing', 'salary': 6800, 'tasks': [{'task': 'Social Media Campaign', 'completed': True, 'effort': 6}, {'task': 'SEO Optimization', 'completed': False, 'effort': 4}, {'task': 'Brand Strategy', 'completed': True, 'effort': 7}], 'sum_effort': 13}, {'name': 'Elif', 'department': 'HR', 'salary': 7500, 'tasks': [{'task': 'Recruitment', 'completed': True, 'effort': 7}, {'task': 'Training', 'completed': True, 'effort': 4}, {'task': 'Policy Update', 'completed': False, 'effort': 3}], 'sum_effort': 11}]\n"
          ]
        }
      ]
    },
    {
      "cell_type": "code",
      "source": [
        "# Görevlerini %100 tamamlamış çalışanları listeleyin.\n",
        "all_task_employees = []\n",
        "for employe in employees:\n",
        "  all_completed = True\n",
        "  for task in employe['tasks']:\n",
        "    if task['completed'] == False:\n",
        "      all_completed = False\n",
        "      break\n",
        "  if all_completed == True:\n",
        "    all_task_employees.append(employe)\n",
        "print(all_task_employees)\n"
      ],
      "metadata": {
        "colab": {
          "base_uri": "https://localhost:8080/"
        },
        "id": "2cnn-49gk50H",
        "outputId": "71499d24-33b4-4c76-cb8d-0438fa2ec832"
      },
      "execution_count": null,
      "outputs": [
        {
          "output_type": "stream",
          "name": "stdout",
          "text": [
            "[{'name': 'Mehmet', 'department': 'IT', 'salary': 9200, 'tasks': [{'task': 'Cloud Migration', 'completed': True, 'effort': 9}, {'task': 'Load Balancing', 'completed': True, 'effort': 7}, {'task': 'System Monitoring', 'completed': True, 'effort': 5}], 'sum_effort': 21}]\n"
          ]
        }
      ]
    },
    {
      "cell_type": "code",
      "source": [
        "# Her departman için, en az bir görevini tamamlamış çalışanların adlarını içeren bir sözlük oluşturun.\n",
        "\n",
        "# Departmanları belirle\n",
        "department = []\n",
        "[department.append(employe.get(\"department\")) for employe in employees if employe.get(\"department\") not in department]\n",
        "\n",
        "# Her departman için boş liste içeren sözlük oluştur\n",
        "one_task_employees = {key: [] for key in department}\n",
        "\n",
        "# Çalışanları ve görevlerini kontrol et\n",
        "for employe in employees:\n",
        "    one_completed_task = False\n",
        "    for task in employe[\"tasks\"]:\n",
        "        if task[\"completed\"] == True:\n",
        "            one_completed_task = True\n",
        "            break\n",
        "    if one_completed_task == True:\n",
        "        # İlgili departmana çalışan ismini ekle\n",
        "        dept = employe.get(\"department\")\n",
        "        if dept in one_task_employees:\n",
        "            one_task_employees[dept].append(employe[\"name\"])\n",
        "\n",
        "print(one_task_employees)\n"
      ],
      "metadata": {
        "colab": {
          "base_uri": "https://localhost:8080/"
        },
        "id": "nZt_xpTIuIoG",
        "outputId": "54ee0f42-f9a0-4fc4-9436-6481f26207a6"
      },
      "execution_count": null,
      "outputs": [
        {
          "output_type": "stream",
          "name": "stdout",
          "text": [
            "{'IT': ['Ahmet', 'Mehmet'], 'HR': ['Elif'], 'Marketing': ['Ayşe']}\n"
          ]
        }
      ]
    },
    {
      "cell_type": "markdown",
      "source": [
        "\n",
        "# **W3**\n",
        "\n",
        "Bir e-ticaret platformundaki siparişleri temsil eden veri yapısı aşağıda verilmiştir:\n",
        "\n",
        "\n",
        "```\n",
        "orders = [\n",
        "    {\"customer\": \"Ali\", \"items\": [{\"name\": \"Laptop\", \"price\": 15000}, {\"name\": \"Mouse\", \"price\": 500}]},\n",
        "    {\"customer\": \"Ayşe\", \"items\": [{\"name\": \"Phone\", \"price\": 12000}, {\"name\": \"Headphones\", \"price\": 2000}]},\n",
        "    {\"customer\": \"Mehmet\", \"items\": [{\"name\": \"Tablet\", \"price\": 7000}, {\"name\": \"Keyboard\", \"price\": 1000}, {\"name\": \"Mouse\", \"price\": 600}]},\n",
        "    {\"customer\": \"Zeynep\", \"items\": [{\"name\": \"Monitor\", \"price\": 8000}, {\"name\": \"Phone\", \"price\": 11000}]},\n",
        "]\n",
        "```\n",
        "\n",
        "**Yapılması Gerekenler: **\n",
        "* Toplam sipariş tutarı en yüksek olan müşteriyi bulun.\n",
        "* Her müşterinin toplam sipariş tutarını içeren bir sözlük oluşturun.\n",
        "* En çok satılan ürünü bulun. (Birden fazla müşteri tarafından sipariş edilen ürün)\n",
        "* Ortalama sipariş tutarını hesaplayın.\n",
        "* Siparişlerinde toplam tutarı 10.000 TL’nin üzerinde olan müşterileri listeleyin."
      ],
      "metadata": {
        "id": "Dc67lJLA0err"
      }
    },
    {
      "cell_type": "code",
      "source": [
        "orders = [\n",
        "    {\"customer\": \"Ali\", \"items\": [{\"name\": \"Laptop\", \"price\": 15000}, {\"name\": \"Mouse\", \"price\": 500}]},\n",
        "    {\"customer\": \"Ayşe\", \"items\": [{\"name\": \"Phone\", \"price\": 12000}, {\"name\": \"Headphones\", \"price\": 2000}]},\n",
        "    {\"customer\": \"Mehmet\", \"items\": [{\"name\": \"Tablet\", \"price\": 7000}, {\"name\": \"Keyboard\", \"price\": 1000}, {\"name\": \"Mouse\", \"price\": 600}]},\n",
        "    {\"customer\": \"Zeynep\", \"items\": [{\"name\": \"Monitor\", \"price\": 8000}, {\"name\": \"Phone\", \"price\": 11000}]},\n",
        "    {\"customer\": \"Berna\", \"items\": [{\"name\": \"Monitor\", \"price\": 8000}, {\"name\": \"Phone\", \"price\": 11000}]},\n",
        "]"
      ],
      "metadata": {
        "id": "44VMDpwh0wgf"
      },
      "execution_count": null,
      "outputs": []
    },
    {
      "cell_type": "code",
      "source": [
        "# Toplam sipariş tutarı en yüksek olan müşteriyi bulun.\n",
        "\n",
        "# Her müşteri için toplam sipariş tutarını hesapla\n",
        "for customer in orders:\n",
        "    customer[\"total_price\"] = sum(item['price'] for item in customer['items'])\n",
        "\n",
        "# En yüksek sipariş tutarını bul\n",
        "max_total_price = max(customer[\"total_price\"] for customer in orders)\n",
        "\n",
        "# En yüksek sipariş tutarına sahip müşterileri listele\n",
        "max_price_orders_customers = [customer for customer in orders if customer[\"total_price\"] == max_total_price]\n",
        "\n",
        "print(f'En yüksek sipariş tutarı: {max_total_price}')\n",
        "print(max_price_orders_customers)"
      ],
      "metadata": {
        "colab": {
          "base_uri": "https://localhost:8080/"
        },
        "id": "eVeORJuB04xH",
        "outputId": "b35b34ff-dad4-40ab-8e48-7b3101665036"
      },
      "execution_count": null,
      "outputs": [
        {
          "output_type": "stream",
          "name": "stdout",
          "text": [
            "En yüksek sipariş tutarı: 19000\n",
            "[{'customer': 'Zeynep', 'items': [{'name': 'Monitor', 'price': 8000}, {'name': 'Phone', 'price': 11000}], 'total_price': 19000}, {'customer': 'Berna', 'items': [{'name': 'Monitor', 'price': 8000}, {'name': 'Phone', 'price': 11000}], 'total_price': 19000}]\n"
          ]
        }
      ]
    },
    {
      "cell_type": "code",
      "source": [
        "# Her müşterinin toplam sipariş tutarını içeren bir sözlük oluşturun.\n",
        "\n",
        "customer_list = []\n",
        "# Her müşteri için toplam sipariş tutarını hesapla\n",
        "for customer in orders:\n",
        "  sum_total_price = {'customer':None, 'Total_Price':0}\n",
        "  sum_total_price['customer'] = customer['customer']\n",
        "  sum_total_price['Total_Price'] = sum(item['price'] for item in customer['items'])\n",
        "  customer_list.append(sum_total_price)\n",
        "\n",
        "print(customer_list)"
      ],
      "metadata": {
        "colab": {
          "base_uri": "https://localhost:8080/"
        },
        "id": "E9Vzl70q32Vr",
        "outputId": "3a6a4a14-2584-4d0b-9fdb-b851cff6f83f"
      },
      "execution_count": null,
      "outputs": [
        {
          "output_type": "stream",
          "name": "stdout",
          "text": [
            "[{'customer': 'Ali', 'Total_Price': 15500}, {'customer': 'Ayşe', 'Total_Price': 14000}, {'customer': 'Mehmet', 'Total_Price': 8600}, {'customer': 'Zeynep', 'Total_Price': 19000}, {'customer': 'Berna', 'Total_Price': 19000}]\n"
          ]
        }
      ]
    },
    {
      "cell_type": "code",
      "source": [
        "# En çok satılan ürünü bulun. (Birden fazla müşteri tarafından sipariş edilen ürün)\n",
        "\n",
        "# Ürün sipariş sayısını takip etmek için bir sözlük oluştur\n",
        "products_order_count = {}\n",
        "\n",
        "# Tüm siparişleri tara ve ürünlerin sipariş sayısını güncelle\n",
        "for customer in orders:\n",
        "    for item in customer['items']:\n",
        "        product_name = item['name']\n",
        "        if product_name in products_order_count:\n",
        "            products_order_count[product_name] += 1\n",
        "        else:\n",
        "            products_order_count[product_name] = 1\n",
        "\n",
        "# En çok satılan ürünü bul\n",
        "max_count = max(products_order_count.values())\n",
        "most_sold_products = [product for product, count in products_order_count.items() if count == max_count]\n",
        "\n",
        "print(products_order_count)\n",
        "print(f'En çok satılan ürün: {most_sold_products}')"
      ],
      "metadata": {
        "colab": {
          "base_uri": "https://localhost:8080/"
        },
        "id": "b8kciyL1EUBd",
        "outputId": "2322d3ed-01b0-4ade-ab6c-e6f36407f3e7"
      },
      "execution_count": null,
      "outputs": [
        {
          "output_type": "stream",
          "name": "stdout",
          "text": [
            "{'Laptop': 1, 'Mouse': 2, 'Phone': 3, 'Headphones': 1, 'Tablet': 1, 'Keyboard': 1, 'Monitor': 2}\n",
            "En çok satılan ürün: ['Phone']\n"
          ]
        }
      ]
    },
    {
      "cell_type": "code",
      "source": [
        "# Ortalama sipariş tutarını hesaplayın.\n",
        "total_order_price = 0\n",
        "order_count = 0\n",
        "for customer in orders:\n",
        "  for item in customer['items']:\n",
        "    order_count += 1\n",
        "    total_order_price += item['price']\n",
        "\n",
        "print(f'Toplam Siperiş Tutarı : {total_order_price}')\n",
        "print(f'Sipariş Sayısı {order_count}')\n",
        "print(f'Ortalama Sipariş Tutarı : {total_order_price / order_count }')\n"
      ],
      "metadata": {
        "colab": {
          "base_uri": "https://localhost:8080/"
        },
        "id": "PlGgQSs8K_Tc",
        "outputId": "1f8c6a5b-b915-4e28-a3c2-cb7537756925"
      },
      "execution_count": null,
      "outputs": [
        {
          "output_type": "stream",
          "name": "stdout",
          "text": [
            "Toplam Siperiş Tutarı : 76100\n",
            "Sipariş Sayısı 11\n",
            "Ortalama Sipariş Tutarı : 6918.181818181818\n"
          ]
        }
      ]
    },
    {
      "cell_type": "code",
      "source": [
        "# Siparişlerinde toplam tutarı 10.000 TL’nin üzerinde olan müşterileri listeleyin.\n",
        "\n",
        "high_value_customers = []\n",
        "# Her müşteri için toplam sipariş tutarını hesapla\n",
        "for customer in orders:\n",
        "  if sum(item['price'] for item in customer['items']) > 10000:\n",
        "    customer[\"total_price\"] = sum(item['price'] for item in customer['items'])\n",
        "    high_value_customers.append(customer)\n",
        "\n",
        "print(high_value_customers)"
      ],
      "metadata": {
        "colab": {
          "base_uri": "https://localhost:8080/"
        },
        "id": "QM9bizXYQobb",
        "outputId": "4d02ec9a-8b3f-4a27-bd23-b2d07b88ab91"
      },
      "execution_count": null,
      "outputs": [
        {
          "output_type": "stream",
          "name": "stdout",
          "text": [
            "[{'customer': 'Ali', 'items': [{'name': 'Laptop', 'price': 15000}, {'name': 'Mouse', 'price': 500}], 'total_price': 15500}, {'customer': 'Ayşe', 'items': [{'name': 'Phone', 'price': 12000}, {'name': 'Headphones', 'price': 2000}], 'total_price': 14000}, {'customer': 'Zeynep', 'items': [{'name': 'Monitor', 'price': 8000}, {'name': 'Phone', 'price': 11000}], 'total_price': 19000}, {'customer': 'Berna', 'items': [{'name': 'Monitor', 'price': 8000}, {'name': 'Phone', 'price': 11000}], 'total_price': 19000}]\n"
          ]
        }
      ]
    }
  ]
}